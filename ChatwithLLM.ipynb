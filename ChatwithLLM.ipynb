{
 "cells": [
  {
   "cell_type": "code",
   "execution_count": null,
   "id": "dcfbe869-48fb-4f06-bebc-5779ba004add",
   "metadata": {},
   "outputs": [],
   "source": [
    "#Running an LLM"
   ]
  },
  {
   "cell_type": "code",
   "execution_count": null,
   "id": "0ef0a705-3d16-4606-ae22-4a2674b7c200",
   "metadata": {},
   "outputs": [],
   "source": [
    "###Import Required Packages"
   ]
  },
  {
   "cell_type": "code",
   "execution_count": null,
   "id": "1dfdb735-0385-4a44-946c-2467e57b7e07",
   "metadata": {},
   "outputs": [],
   "source": [
    "from langchain_core.prompts import ChatPromptTemplate\n",
    "from langchain_community.llms import Ollama\n",
    "from langchain.callbacks.streaming_stdout import StreamingStdOutCallbackHandler\n",
    "from langchain.callbacks.manager import CallbackManager\n",
    "\n",
    "callback_manager = CallbackManager([StreamingStdOutCallbackHandler()])"
   ]
  },
  {
   "cell_type": "code",
   "execution_count": null,
   "id": "821b04e4-ab80-46a2-b891-148fe312be18",
   "metadata": {},
   "outputs": [],
   "source": [
    "###Format the Output"
   ]
  },
  {
   "cell_type": "code",
   "execution_count": null,
   "id": "09448c3d-cf32-4052-9a48-b60a005ce250",
   "metadata": {},
   "outputs": [],
   "source": [
    "template = \"\"\"Question: {question}\n",
    "\n",
    "Answer: Let's think step by step.\"\"\"\n",
    "\n",
    "prompt = ChatPromptTemplate.from_template(template)\n",
    "\n",
    "model = Ollama(model=\"gemma2:2b\", callbacks=callback_manager)\n",
    "\n",
    "chain = prompt | model"
   ]
  },
  {
   "cell_type": "code",
   "execution_count": null,
   "id": "1e94d7c3-5e7f-45ba-94e5-282182524848",
   "metadata": {},
   "outputs": [],
   "source": [
    "###Ask a Question!"
   ]
  },
  {
   "cell_type": "code",
   "execution_count": null,
   "id": "c6ddacf6-dc9f-41c3-ac8d-3613b727595e",
   "metadata": {},
   "outputs": [],
   "source": [
    "print(chain.invoke({\"question\": \"Why is the sky blue?\"}))"
   ]
  }
 ],
 "metadata": {
  "kernelspec": {
   "display_name": "Python 3 (ipykernel)",
   "language": "python",
   "name": "python3"
  },
  "language_info": {
   "codemirror_mode": {
    "name": "ipython",
    "version": 3
   },
   "file_extension": ".py",
   "mimetype": "text/x-python",
   "name": "python",
   "nbconvert_exporter": "python",
   "pygments_lexer": "ipython3",
   "version": "3.12.5"
  }
 },
 "nbformat": 4,
 "nbformat_minor": 5
}
