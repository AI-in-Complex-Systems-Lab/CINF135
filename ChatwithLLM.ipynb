{
 "cells": [
  {
   "cell_type": "markdown",
   "id": "122c5a10-7911-4804-b176-84665259808f",
   "metadata": {},
   "source": [
    "#Running an LLM"
   ]
  },
  {
   "cell_type": "markdown",
   "id": "7bb4c37e-55f1-4b30-8e27-95c36b7bdd88",
   "metadata": {},
   "source": [
    "###Import Required Packages"
   ]
  },
  {
   "cell_type": "code",
   "execution_count": null,
   "id": "1dfdb735-0385-4a44-946c-2467e57b7e07",
   "metadata": {},
   "outputs": [],
   "source": [
    "from langchain_core.prompts import ChatPromptTemplate\n",
    "from langchain_community.llms import Ollama\n",
    "from langchain.callbacks.streaming_stdout import StreamingStdOutCallbackHandler\n",
    "from langchain.callbacks.manager import CallbackManager\n",
    "\n",
    "callback_manager = CallbackManager([StreamingStdOutCallbackHandler()])"
   ]
  },
  {
   "cell_type": "markdown",
   "id": "984604d6-11b3-4a2e-bf3c-97faab56d8cb",
   "metadata": {},
   "source": [
    "###Format the Output"
   ]
  },
  {
   "cell_type": "code",
   "execution_count": null,
   "id": "09448c3d-cf32-4052-9a48-b60a005ce250",
   "metadata": {},
   "outputs": [],
   "source": [
    "template = \"\"\"Question: {question}\n",
    "\n",
    "Answer: Let's think step by step.\"\"\"\n",
    "\n",
    "prompt = ChatPromptTemplate.from_template(template)\n",
    "\n",
    "model = Ollama(model=\"gemma2:2b\", callbacks=callback_manager)\n",
    "\n",
    "chain = prompt | model"
   ]
  },
  {
   "cell_type": "markdown",
   "id": "d3b89534-fed5-4f60-b775-acc0daa0337a",
   "metadata": {},
   "source": [
    "###Ask a Question!"
   ]
  },
  {
   "cell_type": "code",
   "execution_count": null,
   "id": "c6ddacf6-dc9f-41c3-ac8d-3613b727595e",
   "metadata": {},
   "outputs": [],
   "source": [
    "print(chain.invoke({\"question\": \"Why is the sky blue?\"}))"
   ]
  }
 ],
 "metadata": {
  "kernelspec": {
   "display_name": "Python 3 (ipykernel)",
   "language": "python",
   "name": "python3"
  },
  "language_info": {
   "codemirror_mode": {
    "name": "ipython",
    "version": 3
   },
   "file_extension": ".py",
   "mimetype": "text/x-python",
   "name": "python",
   "nbconvert_exporter": "python",
   "pygments_lexer": "ipython3",
   "version": "3.12.5"
  }
 },
 "nbformat": 4,
 "nbformat_minor": 5
}
