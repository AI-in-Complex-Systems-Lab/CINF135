{
 "cells": [
  {
   "cell_type": "markdown",
   "metadata": {},
   "source": [
    "# Lab #5\n",
    "\n",
    "\n",
    "\n",
    "### Instructions: \n",
    "\n",
    "- In this lab, we are going to have a competition. \n",
    "- Try to create the best model that can predict the prices of the houses in america.\n",
    "- You can choose which columns to use, encoders to use, models to use etc.\n",
    "- In the end, submit your results to the form in the end. (One submission is enough for each group)"
   ]
  },
  {
   "cell_type": "code",
   "execution_count": null,
   "metadata": {},
   "outputs": [],
   "source": [
    "import pandas as pd\n",
    "import numpy as np\n",
    "import matplotlib.pyplot as plt\n",
    "import seaborn as sns\n",
    "from sklearn.model_selection import train_test_split\n",
    "from sklearn.neural_network import MLPRegressor\n",
    "from sklearn.linear_model import LinearRegression, Ridge, Lasso, ElasticNet, BayesianRidge, HuberRegressor, TweedieRegressor, SGDRegressor, LassoLars\n",
    "from sklearn.ensemble import RandomForestRegressor, GradientBoostingRegressor, VotingRegressor, BaggingRegressor\n",
    "from sklearn.preprocessing import StandardScaler, MinMaxScaler\n",
    "from sklearn.preprocessing import OneHotEncoder, OrdinalEncoder\n",
    "from sklearn.metrics import r2_score"
   ]
  },
  {
   "cell_type": "markdown",
   "metadata": {},
   "source": [
    "## Exploratory Analysis"
   ]
  },
  {
   "cell_type": "markdown",
   "metadata": {},
   "source": [
    "### Import the Dataset"
   ]
  },
  {
   "cell_type": "code",
   "execution_count": null,
   "metadata": {},
   "outputs": [],
   "source": [
    "df = pd.read_csv(\"./data/American_Housing_Data.csv\")\n",
    "df['Zip Code'] = df['Zip Code'].astype(str)\n",
    "print(df.columns)\n",
    "df"
   ]
  },
  {
   "cell_type": "markdown",
   "metadata": {},
   "source": [
    "### Plot the relationships\n",
    "\n",
    "- You can change x_axis with other columns to see the relationship"
   ]
  },
  {
   "cell_type": "code",
   "execution_count": null,
   "metadata": {},
   "outputs": [],
   "source": [
    "x_axis = 'Beds'\n",
    "\n",
    "plt.figure(figsize=(10, 6))\n",
    "sns.scatterplot(x=x_axis, y='Price', data=df, color='blue', alpha=0.6)\n",
    "plt.title(f'Relationship between {x_axis} and Price')\n",
    "plt.xlabel(f'{x_axis}')\n",
    "plt.ylabel('Price')\n",
    "plt.show()"
   ]
  },
  {
   "cell_type": "markdown",
   "metadata": {},
   "source": [
    "## Model Training"
   ]
  },
  {
   "cell_type": "markdown",
   "metadata": {},
   "source": [
    "#### Decide which columns to use for predicting the price:\n",
    "\n",
    "('Zip Code', 'Beds', 'Baths', 'Living Space', 'Address', 'City', 'State', 'Zip Code Population', 'Zip Code Density', 'County', 'Median Household Income', 'Latitude', 'Longitude')"
   ]
  },
  {
   "cell_type": "code",
   "execution_count": null,
   "metadata": {},
   "outputs": [],
   "source": [
    "columns = ['Zip Code', 'Price', 'Beds', 'Baths', 'Living Space', 'Address', 'City', 'State', 'Zip Code Population', 'Zip Code Density', 'County', 'Median Household Income', 'Latitude', 'Longitude']\n",
    "df = df[columns]\n",
    "df.dtypes"
   ]
  },
  {
   "cell_type": "markdown",
   "metadata": {},
   "source": [
    "#### Decide whether using a Scaler for numeric columns"
   ]
  },
  {
   "cell_type": "code",
   "execution_count": null,
   "metadata": {},
   "outputs": [],
   "source": [
    "print('Numerical columns:', df.select_dtypes(include=[np.number]).columns.tolist())"
   ]
  },
  {
   "cell_type": "code",
   "execution_count": null,
   "metadata": {},
   "outputs": [],
   "source": [
    "scaler = StandardScaler()\n",
    "# scaler = MinMaxScaler()\n",
    "\n",
    "numeric_data = df.select_dtypes(include=[np.number])\n",
    "numeric_data = pd.DataFrame(scaler.fit_transform(numeric_data), columns=numeric_data.columns)\n",
    "numeric_data['Price'] = df['Price']\n",
    "\n",
    "# update original df with the scaled data (delete if you don't want to use scaler)\n",
    "df[df.select_dtypes(include=[np.number]).columns] = numeric_data \n",
    "df"
   ]
  },
  {
   "cell_type": "markdown",
   "metadata": {},
   "source": [
    "#### Decide whether using Encoder for categorical columns"
   ]
  },
  {
   "cell_type": "code",
   "execution_count": null,
   "metadata": {},
   "outputs": [],
   "source": [
    "print('Categorical columns:', df.select_dtypes(include=[np.object_]).columns.tolist())"
   ]
  },
  {
   "cell_type": "code",
   "execution_count": null,
   "metadata": {},
   "outputs": [],
   "source": [
    "encoder = OrdinalEncoder()\n",
    "\n",
    "categorical_data = df.select_dtypes(include=[np.object_])\n",
    "encoded_data = encoder.fit_transform(categorical_data)\n",
    "encoded_df = pd.DataFrame(encoded_data, columns=categorical_data.columns)\n",
    "\n",
    "# update original df with the encoded data (comment out if you don't want to use encoder)\n",
    "df[df.select_dtypes(include=[np.object_]).columns] = encoded_df\n",
    "df"
   ]
  },
  {
   "cell_type": "code",
   "execution_count": null,
   "metadata": {},
   "outputs": [],
   "source": [
    "X = df.drop('Price', axis=1).drop(df.select_dtypes(include=[np.object_]).columns, axis=1)\n",
    "y = df['Price']\n",
    "X_train, X_test, y_train, y_test = train_test_split(X, y, test_size=0.2, random_state=42)"
   ]
  },
  {
   "cell_type": "markdown",
   "metadata": {},
   "source": [
    "- Uncomment the model you want to use (you can play with the parameters too).\n",
    "- You can find the details about the models from https://scikit-learn.org/stable/supervised_learning.html#supervised-learning"
   ]
  },
  {
   "cell_type": "code",
   "execution_count": null,
   "metadata": {},
   "outputs": [],
   "source": [
    "# ------------------------------------------------------------ #\n",
    "# ------------------------------------------------------------ #\n",
    "\n",
    "#### Linear Models\n",
    "\n",
    "model = LinearRegression()\n",
    "# model = Ridge(alpha=0.5)\n",
    "# model = Lasso(alpha=0.1)\n",
    "# model = LassoLars(alpha=0.1)\n",
    "# model = ElasticNet(alpha=0.1, l1_ratio=0.5)\n",
    "# model = BayesianRidge(alpha_1=1e-06, alpha_2=1e-06, lambda_1=1e-06, lambda_2=1e-06)\n",
    "# model = HuberRegressor(epsilon=1.35, alpha=0.0001)\n",
    "# model = TweedieRegressor(alpha=1.0, power=0.0)\n",
    "\n",
    "#### Ensemble multiple linear models\n",
    "\n",
    "# model = RandomForestRegressor(n_estimators=5)\n",
    "# model = BaggingRegressor(estimator=LinearSVR(), n_estimators=5)\n",
    "# model = VotingRegressor(estimators=[('m1', BayesianRidge()), ('m2', Ridge()), ('m3', ElasticNet())])\n",
    "\n",
    "\n",
    "#### Multi-layer Perceptron\n",
    "\n",
    "# model = MLPRegressor(hidden_layer_sizes=(32, 16, 8), max_iter=200, verbose=True, learning_rate='adaptive', learning_rate_init=0.01)\n",
    "\n",
    "# ------------------------------------------------------------ #\n",
    "# ------------------------------------------------------------ #\n",
    "\n",
    "#### Training and evaluation\n",
    "print('Model:', model)\n",
    "print('Training started. Please wait...')\n",
    "\n",
    "model.fit(X_train, y_train)\n",
    "y_pred = model.predict(X_test)\n",
    "\n",
    "print(f'Mean Absolute Error: {np.mean(np.abs(y_test - y_pred))}')\n",
    "print(f'Score: {r2_score(y_test, y_pred)}')"
   ]
  },
  {
   "cell_type": "code",
   "execution_count": null,
   "metadata": {},
   "outputs": [],
   "source": [
    "scores = {\n",
    "    \"Mean Absolute Error\": np.mean(np.abs(y_test - y_pred)),\n",
    "    \"R2 Score\": r2_score(y_test, y_pred),\n",
    "}\n",
    "print(scores)\n",
    "\n",
    "plt.figure(figsize=(8, 8))\n",
    "plt.scatter(y_test, y_pred, color='blue', alpha=0.5)\n",
    "plt.plot([0, max(y_test.max(), y_pred.max())], [0, max(y_test.max(), y_pred.max())], color='red', linewidth=2, linestyle='--')\n",
    "plt.text(0.05, 0.9, f'Ideally, all points should be on the red line', fontsize=12, transform=plt.gca().transAxes)\n",
    "plt.text(0.05, 0.8, '\\n'.join([f'{k}: {v:.3f}' for k, v in scores.items()]), fontsize=10, transform=plt.gca().transAxes)\n",
    "plt.title('Predicted vs Actual Price')\n",
    "plt.ylabel('Predicted Price')\n",
    "plt.xlabel('Actual Price')\n",
    "plt.xscale('log')\n",
    "plt.yscale('log')\n",
    "plt.show()"
   ]
  },
  {
   "cell_type": "markdown",
   "metadata": {},
   "source": [
    "## Submit your model and score:\n",
    "\n",
    "https://forms.gle/QA2vu8n6YyrZjYiS8"
   ]
  },
  {
   "cell_type": "markdown",
   "metadata": {},
   "source": []
  }
 ],
 "metadata": {
  "kernelspec": {
   "display_name": "venv",
   "language": "python",
   "name": "python3"
  },
  "language_info": {
   "codemirror_mode": {
    "name": "ipython",
    "version": 3
   },
   "file_extension": ".py",
   "mimetype": "text/x-python",
   "name": "python",
   "nbconvert_exporter": "python",
   "pygments_lexer": "ipython3",
   "version": "3.11.6"
  }
 },
 "nbformat": 4,
 "nbformat_minor": 2
}
