{
 "cells": [
  {
   "cell_type": "markdown",
   "metadata": {},
   "source": [
    "# Lab #2"
   ]
  },
  {
   "cell_type": "code",
   "execution_count": null,
   "metadata": {},
   "outputs": [],
   "source": [
    "import traitlets\n",
    "import ipywidgets\n",
    "import ipywidgets.widgets as widgets\n",
    "from IPython.display import display\n",
    "from jetbot import Camera, bgr8_to_jpeg\n",
    "from PIL import Image"
   ]
  },
  {
   "cell_type": "markdown",
   "metadata": {},
   "source": [
    "## Camera"
   ]
  },
  {
   "cell_type": "markdown",
   "metadata": {},
   "source": [
    "Let's start with displaying the output of our camera. Initialize the camera with 300x300 pixels and link it to the widget for live stream."
   ]
  },
  {
   "cell_type": "code",
   "execution_count": null,
   "metadata": {},
   "outputs": [],
   "source": [
    "camera = Camera.instance(width=300, height=300)\n"
   ]
  },
  {
   "cell_type": "code",
   "execution_count": null,
   "metadata": {},
   "outputs": [],
   "source": [
    "# display live camera feed\n",
    "image_widget = ipywidgets.Image()\n",
    "cam_link = traitlets.dlink((camera, 'value'), (image_widget, 'value'), transform=bgr8_to_jpeg)\n",
    "display(image_widget)"
   ]
  },
  {
   "cell_type": "markdown",
   "metadata": {},
   "source": [
    "Now, let's capture an image with the camera and save it."
   ]
  },
  {
   "cell_type": "code",
   "execution_count": null,
   "metadata": {},
   "outputs": [],
   "source": [
    "with open('capture.jpg', 'wb') as f:\n",
    "    f.write(image_widget.value)\n",
    "\n",
    "cam_link.unlink()\n",
    "\n",
    "# display image\n",
    "image_widget = ipywidgets.Image()\n",
    "image_widget.value = open('capture.jpg', 'rb').read()\n",
    "display(image_widget)"
   ]
  },
  {
   "cell_type": "markdown",
   "metadata": {},
   "source": [
    "## Exploration\n",
    "\n",
    "In this example we'll show how you can classify objects with JetBot! We'll use a pre-trained neural network (Resnet18) that was trained on the ImageNet dataset to detect different common objects. These include:\n",
    "\n",
    "- Mailbox (index 637)\n",
    "- Cup (index 968)\n",
    "- ...\n",
    "\n",
    "First, we'll want to import the resnet18 class which takes the pre-trained weights as input."
   ]
  },
  {
   "cell_type": "code",
   "execution_count": null,
   "metadata": {},
   "outputs": [],
   "source": [
    "from torchvision.models import resnet18, ResNet18_Weights\n",
    "from torchvision.io import read_image, ImageReadMode\n",
    "\n",
    "weights = ResNet18_Weights.DEFAULT\n",
    "preprocess = weights.transforms()\n",
    "model = resnet18(weights=weights).eval()"
   ]
  },
  {
   "cell_type": "markdown",
   "metadata": {},
   "source": [
    "Then let's try with sample images:"
   ]
  },
  {
   "cell_type": "code",
   "execution_count": null,
   "metadata": {},
   "outputs": [],
   "source": [
    "# load the image \n",
    "img = read_image('data/mailbox.jpg', mode=ImageReadMode.RGB)\n",
    "\n",
    "# preprocess the image\n",
    "batch = preprocess(img).unsqueeze(0)\n",
    "\n",
    "# perform inference\n",
    "prediction = model(batch).squeeze(0).softmax(0)\n",
    "class_id = prediction.argmax().item()\n",
    "score = prediction[class_id].item()\n",
    "category_name = weights.meta[\"categories\"][class_id]\n",
    "\n",
    "print(class_id, category_name, score)\n",
    "print(f\"{category_name}: {100 * score:.1f}%\")\n",
    "Image.open('data/mailbox.jpg')"
   ]
  },
  {
   "cell_type": "code",
   "execution_count": null,
   "metadata": {},
   "outputs": [],
   "source": [
    "# load the image \n",
    "img = read_image('data/cup.png', mode=ImageReadMode.RGB)\n",
    "\n",
    "# preprocess the image\n",
    "batch = preprocess(img).unsqueeze(0)\n",
    "\n",
    "# perform inference\n",
    "prediction = model(batch).squeeze(0).softmax(0)\n",
    "class_id = prediction.argmax().item()\n",
    "score = prediction[class_id].item()\n",
    "category_name = weights.meta[\"categories\"][class_id]\n",
    "\n",
    "print(class_id, category_name, score)\n",
    "print(f\"{category_name}: {100 * score:.1f}%\")\n",
    "Image.open('data/cup.png')"
   ]
  },
  {
   "cell_type": "markdown",
   "metadata": {},
   "source": [
    "Now, let's run the model using our image."
   ]
  },
  {
   "cell_type": "code",
   "execution_count": null,
   "metadata": {},
   "outputs": [],
   "source": [
    "# load the image \n",
    "img = read_image('data/capture.jpg', mode=ImageReadMode.RGB)\n",
    "\n",
    "# preprocess the image\n",
    "batch = preprocess(img).unsqueeze(0)\n",
    "\n",
    "# perform inference\n",
    "prediction = model(batch).squeeze(0).softmax(0)\n",
    "class_id = prediction.argmax().item()\n",
    "score = prediction[class_id].item()\n",
    "category_name = weights.meta[\"categories\"][class_id]\n",
    "\n",
    "print(class_id, category_name, score)\n",
    "print(f\"{category_name}: {100 * score:.1f}%\")\n",
    "Image.open('data/capture.jpg')"
   ]
  }
 ],
 "metadata": {
  "kernelspec": {
   "display_name": "venv",
   "language": "python",
   "name": "python3"
  },
  "language_info": {
   "codemirror_mode": {
    "name": "ipython",
    "version": 3
   },
   "file_extension": ".py",
   "mimetype": "text/x-python",
   "name": "python",
   "nbconvert_exporter": "python",
   "pygments_lexer": "ipython3",
   "version": "3.11.6"
  }
 },
 "nbformat": 4,
 "nbformat_minor": 2
}
