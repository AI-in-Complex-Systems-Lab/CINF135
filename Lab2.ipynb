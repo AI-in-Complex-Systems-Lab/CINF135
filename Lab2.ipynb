{
 "cells": [
  {
   "cell_type": "markdown",
   "metadata": {},
   "source": [
    "# Lab #2"
   ]
  },
  {
   "cell_type": "code",
   "execution_count": null,
   "metadata": {},
   "outputs": [],
   "source": [
    "from IPython.display import clear_output\n",
    "from matplotlib import pyplot as plt\n",
    "from PIL import Image\n",
    "import cv2"
   ]
  },
  {
   "cell_type": "markdown",
   "metadata": {},
   "source": [
    "## Camera"
   ]
  },
  {
   "cell_type": "markdown",
   "metadata": {},
   "source": [
    "Let's start with configuring our camera.    \n",
    "Initialize the camera with 300x300 pixels."
   ]
  },
  {
   "cell_type": "code",
   "execution_count": null,
   "metadata": {},
   "outputs": [],
   "source": [
    "def capture_photo():\n",
    "    cam = cv2.VideoCapture(0, cv2.CAP_V4L2)\n",
    "\n",
    "    for i in range(50):\n",
    "        ret, img = cam.read()\n",
    "    \n",
    "    cam.release()\n",
    "\n",
    "    img = cv2.cvtColor(img, cv2.COLOR_BGR2RGB)\n",
    "\n",
    "    plt.axis('off')\n",
    "    plt.imshow(img)\n",
    "    plt.savefig('data/capture.jpg')\n",
    "    plt.show()\n",
    "    return img\n"
   ]
  },
  {
   "cell_type": "markdown",
   "metadata": {},
   "source": [
    "Now, let's capture an image with the camera and save it.   "
   ]
  },
  {
   "cell_type": "code",
   "execution_count": null,
   "metadata": {},
   "outputs": [],
   "source": [
    "capture_photo()\n",
    "\n",
    "image = Image.open(\"data/capture.jpg\")\n",
    "plt.imshow(image)"
   ]
  },
  {
   "cell_type": "markdown",
   "metadata": {},
   "source": [
    "## Exploration\n",
    "\n",
    "In this example we'll show how you can classify objects with Raspberry Pi5!   \n",
    "We'll use a pre-trained neural network (Resnet18) that was trained on the ImageNet dataset to detect different common objects.   \n",
    "\n",
    "These include:\n",
    "\n",
    "- Mailbox (index 637)\n",
    "- Cup (index 968)\n",
    "- ...\n",
    "\n",
    "First, we'll want to import the resnet18 class which takes the pre-trained weights as input."
   ]
  },
  {
   "cell_type": "code",
   "execution_count": null,
   "metadata": {},
   "outputs": [],
   "source": [
    "from torchvision.models import resnet18\n",
    "from torchvision import transforms as T\n",
    "import torch\n",
    "import json\n",
    "\n",
    "model = resnet18(pretrained=True). eval()\n",
    "\n",
    "preprocess = T.Compose([\n",
    "    T.Resize(256), \n",
    "    T.CenterCrop(224), \n",
    "    T.ToTensor(), \n",
    "    T.Normalize(mean=[0.485, 0.456, 0.406], std=[0.229, 0.224, 0.225])\n",
    "])\n",
    "\n",
    "classes = json.load(open('data/imagenet_labels.json'))"
   ]
  },
  {
   "cell_type": "markdown",
   "metadata": {},
   "source": [
    "Then let's try with sample images:"
   ]
  },
  {
   "cell_type": "code",
   "execution_count": null,
   "metadata": {},
   "outputs": [],
   "source": [
    "def classify_image(img):\n",
    "    # preprocess the image\n",
    "    batch = preprocess(img).unsqueeze(0)\n",
    "\n",
    "    # perform inference \n",
    "    with torch.no_grad():\n",
    "        pred = model(batch)\n",
    "        prob = pred.softmax(dim=1)\n",
    "\n",
    "    class_id = prob.argmax(dim=1).item()\n",
    "    score = prob[0, class_id].item()\n",
    "\n",
    "    # print the result\n",
    "    print(f\"{classes[class_id]}: {100 * score:.1f}%\")\n",
    "    return img"
   ]
  },
  {
   "cell_type": "code",
   "execution_count": null,
   "metadata": {},
   "outputs": [],
   "source": [
    "# load the image \n",
    "img = Image.open('data/mailbox.jpg')\n",
    "\n",
    "classify_image(img)"
   ]
  },
  {
   "cell_type": "code",
   "execution_count": null,
   "metadata": {},
   "outputs": [],
   "source": [
    "# load the image \n",
    "img = Image.open('data/cup.png')\n",
    "\n",
    "classify_image(img)"
   ]
  },
  {
   "cell_type": "markdown",
   "metadata": {},
   "source": [
    "Now, let's run the model using our image."
   ]
  },
  {
   "cell_type": "code",
   "execution_count": null,
   "metadata": {},
   "outputs": [],
   "source": [
    "# load the image \n",
    "img = Image.open('data/capture.jpg')\n",
    "\n",
    "classify_image(img)"
   ]
  },
  {
   "cell_type": "code",
   "execution_count": null,
   "metadata": {},
   "outputs": [],
   "source": []
  }
 ],
 "metadata": {
  "kernelspec": {
   "display_name": "venv",
   "language": "python",
   "name": "python3"
  },
  "language_info": {
   "codemirror_mode": {
    "name": "ipython",
    "version": 3
   },
   "file_extension": ".py",
   "mimetype": "text/x-python",
   "name": "python",
   "nbconvert_exporter": "python",
   "pygments_lexer": "ipython3",
   "version": "3.11.6"
  }
 },
 "nbformat": 4,
 "nbformat_minor": 2
}
